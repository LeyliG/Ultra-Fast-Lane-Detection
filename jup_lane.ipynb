{
 "cells": [
  {
   "cell_type": "code",
   "execution_count": 1,
   "metadata": {},
   "outputs": [
    {
     "name": "stdout",
     "output_type": "stream",
     "text": [
      "Python 3.7.13\n"
     ]
    }
   ],
   "source": [
    "!python --version\n",
    "print(torch.__version__)\n",
    "# /home/lgarry/CS_projects/Ultra-Fast-Lane-Detection\n",
    "\n",
    "# If you dont have pytorch\n",
    "#conda install pytorch torchvision cudatoolkit=10.1 -c pytorch \n",
    "\n",
    "#pip install -r requirements.txt"
   ]
  },
  {
   "cell_type": "code",
   "execution_count": 2,
   "metadata": {},
   "outputs": [
    {
     "name": "stdout",
     "output_type": "stream",
     "text": [
      "The current working directory is: /home/lgarry/CS_projects/Ultra-Fast-Lane-Detection\n"
     ]
    }
   ],
   "source": [
    "import os\n",
    "\n",
    "# Get the current working directory\n",
    "current_directory = os.getcwd()\n",
    "\n",
    "# Print the current directory\n",
    "print(f\"The current working directory is: {current_directory}\")\n"
   ]
  },
  {
   "cell_type": "code",
   "execution_count": 5,
   "metadata": {},
   "outputs": [
    {
     "name": "stdout",
     "output_type": "stream",
     "text": [
      "Contents of './CULANEROOT':\n",
      "driver_161_90frame\n",
      "list\n",
      "laneseg_label_w16_test\n",
      "driver_182_30frame\n",
      ".DS_Store\n",
      "driver_23_30frame\n",
      "laneseg_label_w16\n",
      "driver_193_90frame\n",
      "driver_100_30frame\n",
      "driver_37_30frame\n"
     ]
    }
   ],
   "source": [
    "## Checking if the folders are present for TUSIMPLEROOT and CULANEROOT\n",
    "\n",
    "# Specify the path for which you want to list the contents\n",
    "path = './CULANEROOT'  #TUSIMPLEROOT\n",
    "\n",
    "\n",
    "# Check if the path exists and is a directory\n",
    "if os.path.exists(path) and os.path.isdir(path):\n",
    "    # List the contents of the directory\n",
    "    contents = os.listdir(path)\n",
    "    print(f\"Contents of '{path}':\")\n",
    "    for item in contents:\n",
    "        print(item)\n",
    "else:\n",
    "    print(f\"The path '{path}' does not exist or is not a directory.\")"
   ]
  },
  {
   "cell_type": "code",
   "execution_count": 14,
   "metadata": {},
   "outputs": [
    {
     "name": "stdout",
     "output_type": "stream",
     "text": [
      "Character at position 738 (0-based index 737): '1'\n"
     ]
    }
   ],
   "source": [
    "import json\n",
    "\n",
    "\n",
    "# List of JSON files to check and fix\n",
    "json_files = ['label_data_0601.json', 'label_data_0531.json', 'label_data_0313.json']\n",
    "\n",
    "#for json_file in json_files:\n",
    "#    fix_json_file(f\"./TUSIMPLEROOT/{json_file}\")\n",
    "\n",
    "def check_character_at_position(file_path, position):\n",
    "    try:\n",
    "        with open(file_path, 'r') as file:\n",
    "            # Read the first line only\n",
    "            line = file.readline()\n",
    "            if position < len(line):\n",
    "                character = line[position]\n",
    "                print(f\"Character at position {position + 1} (0-based index {position}): '{character}'\")\n",
    "            else:\n",
    "                print(f\"Position {position + 1} exceeds the length of the line.\")\n",
    "    except FileNotFoundError:\n",
    "        print(f\"The file {file_path} was not found.\")\n",
    "    except Exception as e:\n",
    "        print(f\"An error occurred: {e}\")\n",
    "\n",
    "# Specify the file path and the position you're interested in\n",
    "file_path = './TUSIMPLEROOT/label_data_0601.json'\n",
    "position = 737  # Adjust according to the error message, remember to subtract 1 for 0-based index\n",
    "\n",
    "# Call the function with the file path and position\n",
    "check_character_at_position(file_path, position)\n",
    "\n"
   ]
  },
  {
   "cell_type": "code",
   "execution_count": 7,
   "metadata": {},
   "outputs": [
    {
     "name": "stdout",
     "output_type": "stream",
     "text": [
      "STDOUT: \n",
      "STDERR: Traceback (most recent call last):\n",
      "  File \"scripts/convert_tusimple.py\", line 145, in <module>\n",
      "    names,line_txt = get_tusimple_list(args.root,  ['label_data_0601.json','label_data_0531.json','label_data_0313.json'])\n",
      "  File \"scripts/convert_tusimple.py\", line 45, in get_tusimple_list\n",
      "    label_json = [json.loads(line) for line in open(l).readlines()]\n",
      "  File \"scripts/convert_tusimple.py\", line 45, in <listcomp>\n",
      "    label_json = [json.loads(line) for line in open(l).readlines()]\n",
      "  File \"/home/lgarry/.conda/envs/lane-det/lib/python3.7/json/__init__.py\", line 348, in loads\n",
      "    return _default_decoder.decode(s)\n",
      "  File \"/home/lgarry/.conda/envs/lane-det/lib/python3.7/json/decoder.py\", line 337, in decode\n",
      "    obj, end = self.raw_decode(s, idx=_w(s, 0).end())\n",
      "  File \"/home/lgarry/.conda/envs/lane-det/lib/python3.7/json/decoder.py\", line 353, in raw_decode\n",
      "    obj, end = self.scan_once(s, idx)\n",
      "json.decoder.JSONDecodeError: Expecting ',' delimiter: line 1 column 738 (char 737)\n",
      "\n"
     ]
    }
   ],
   "source": [
    "#python scripts/convert_tusimple.py --root $TUSIMPLEROOT\n",
    "# this will generate segmentations and two list files: train_gt.txt and test.txt\n",
    "\n",
    "import subprocess\n",
    "import os\n",
    "\n",
    "# Make sure you have the TUSIMPLEROOT environment variable set, or directly replace os.environ['TUSIMPLEROOT']\n",
    "# with the actual path as a string if you prefer to set it in this script.\n",
    "tusimple_root = \"./TUSIMPLEROOT\"\n",
    "\n",
    "# Define the command to run.\n",
    "command = [\n",
    "    'python',\n",
    "    'scripts/convert_tusimple.py',\n",
    "    '--root',\n",
    "    tusimple_root\n",
    "]\n",
    "\n",
    "# Run the command.\n",
    "result = subprocess.run(command, capture_output=True, text=True)\n",
    "\n",
    "# Print the output and error (if any).\n",
    "print(\"STDOUT:\", result.stdout)\n",
    "print(\"STDERR:\", result.stderr)\n"
   ]
  },
  {
   "cell_type": "code",
   "execution_count": 4,
   "metadata": {},
   "outputs": [
    {
     "name": "stderr",
     "output_type": "stream",
     "text": [
      "usage: ipykernel_launcher.py [-h] [--local_rank LOCAL_RANK]\n",
      "                             [--dataset DATASET] [--data_root DATA_ROOT]\n",
      "                             [--epoch EPOCH] [--batch_size BATCH_SIZE]\n",
      "                             [--optimizer OPTIMIZER]\n",
      "                             [--learning_rate LEARNING_RATE]\n",
      "                             [--weight_decay WEIGHT_DECAY]\n",
      "                             [--momentum MOMENTUM] [--scheduler SCHEDULER]\n",
      "                             [--steps STEPS [STEPS ...]] [--gamma GAMMA]\n",
      "                             [--warmup WARMUP] [--warmup_iters WARMUP_ITERS]\n",
      "                             [--backbone BACKBONE] [--griding_num GRIDING_NUM]\n",
      "                             [--use_aux USE_AUX] [--sim_loss_w SIM_LOSS_W]\n",
      "                             [--shp_loss_w SHP_LOSS_W] [--note NOTE]\n",
      "                             [--log_path LOG_PATH] [--finetune FINETUNE]\n",
      "                             [--resume RESUME] [--test_model TEST_MODEL]\n",
      "                             [--test_work_dir TEST_WORK_DIR]\n",
      "                             [--num_lanes NUM_LANES] [--auto_backup]\n",
      "                             config\n",
      "ipykernel_launcher.py: error: the following arguments are required: config\n"
     ]
    },
    {
     "ename": "SystemExit",
     "evalue": "2",
     "output_type": "error",
     "traceback": [
      "An exception has occurred, use %tb to see the full traceback.\n",
      "\u001b[0;31mSystemExit\u001b[0m\u001b[0;31m:\u001b[0m 2\n"
     ]
    }
   ],
   "source": []
  }
 ],
 "metadata": {
  "kernelspec": {
   "display_name": "lane-det",
   "language": "python",
   "name": "python3"
  },
  "language_info": {
   "codemirror_mode": {
    "name": "ipython",
    "version": 3
   },
   "file_extension": ".py",
   "mimetype": "text/x-python",
   "name": "python",
   "nbconvert_exporter": "python",
   "pygments_lexer": "ipython3",
   "version": "3.7.13"
  }
 },
 "nbformat": 4,
 "nbformat_minor": 2
}
