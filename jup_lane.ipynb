{
 "cells": [
  {
   "cell_type": "code",
   "execution_count": 1,
   "metadata": {},
   "outputs": [
    {
     "name": "stdout",
     "output_type": "stream",
     "text": [
      "Python 3.7.13\n"
     ]
    }
   ],
   "source": [
    "!python --version\n",
    "# /home/lgarry/CS_projects/Ultra-Fast-Lane-Detection\n",
    "\n"
   ]
  },
  {
   "cell_type": "code",
   "execution_count": 4,
   "metadata": {},
   "outputs": [
    {
     "name": "stderr",
     "output_type": "stream",
     "text": [
      "usage: ipykernel_launcher.py [-h] [--local_rank LOCAL_RANK]\n",
      "                             [--dataset DATASET] [--data_root DATA_ROOT]\n",
      "                             [--epoch EPOCH] [--batch_size BATCH_SIZE]\n",
      "                             [--optimizer OPTIMIZER]\n",
      "                             [--learning_rate LEARNING_RATE]\n",
      "                             [--weight_decay WEIGHT_DECAY]\n",
      "                             [--momentum MOMENTUM] [--scheduler SCHEDULER]\n",
      "                             [--steps STEPS [STEPS ...]] [--gamma GAMMA]\n",
      "                             [--warmup WARMUP] [--warmup_iters WARMUP_ITERS]\n",
      "                             [--backbone BACKBONE] [--griding_num GRIDING_NUM]\n",
      "                             [--use_aux USE_AUX] [--sim_loss_w SIM_LOSS_W]\n",
      "                             [--shp_loss_w SHP_LOSS_W] [--note NOTE]\n",
      "                             [--log_path LOG_PATH] [--finetune FINETUNE]\n",
      "                             [--resume RESUME] [--test_model TEST_MODEL]\n",
      "                             [--test_work_dir TEST_WORK_DIR]\n",
      "                             [--num_lanes NUM_LANES] [--auto_backup]\n",
      "                             config\n",
      "ipykernel_launcher.py: error: the following arguments are required: config\n"
     ]
    },
    {
     "ename": "SystemExit",
     "evalue": "2",
     "output_type": "error",
     "traceback": [
      "An exception has occurred, use %tb to see the full traceback.\n",
      "\u001b[0;31mSystemExit\u001b[0m\u001b[0;31m:\u001b[0m 2\n"
     ]
    }
   ],
   "source": []
  }
 ],
 "metadata": {
  "kernelspec": {
   "display_name": "lane-det",
   "language": "python",
   "name": "python3"
  },
  "language_info": {
   "codemirror_mode": {
    "name": "ipython",
    "version": 3
   },
   "file_extension": ".py",
   "mimetype": "text/x-python",
   "name": "python",
   "nbconvert_exporter": "python",
   "pygments_lexer": "ipython3",
   "version": "3.7.13"
  }
 },
 "nbformat": 4,
 "nbformat_minor": 2
}
